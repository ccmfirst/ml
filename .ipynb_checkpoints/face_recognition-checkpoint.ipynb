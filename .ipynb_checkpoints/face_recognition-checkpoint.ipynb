{
 "cells": [
  {
   "cell_type": "code",
   "execution_count": 3,
   "metadata": {},
   "outputs": [],
   "source": [
    "import numpy as np\n",
    "import matplotlib.pyplot as plt\n",
    "\n",
    "from sklearn.datasets import fetch_olivetti_faces\n",
    "from sklearn.utils.validation import check_random_state\n",
    "\n",
    "from sklearn.ensemble import ExtraTreesRegressor\n",
    "from sklearn.neighbors import KNeighborsRegressor\n",
    "from sklearn.linear_model import LinearRegression\n",
    "from sklearn.linear_model import RidgeCV"
   ]
  },
  {
   "cell_type": "code",
   "execution_count": 4,
   "metadata": {},
   "outputs": [
    {
     "name": "stdout",
     "output_type": "stream",
     "text": [
      "downloading Olivetti faces from https://ndownloader.figshare.com/files/5976027 to /Users/ccmfirst/scikit_learn_data\n",
      "data: (400, 4096)\n",
      "dimentions of the image: 64.0\n",
      "targets: (400,)\n",
      "target values: [ 0  1  2  3  4  5  6  7  8  9 10 11 12 13 14 15 16 17 18 19 20 21 22 23\n",
      " 24 25 26 27 28 29 30 31 32 33 34 35 36 37 38 39]\n"
     ]
    }
   ],
   "source": [
    "data, targets = fetch_olivetti_faces(return_X_y=True)\n",
    "print('data:', data.shape)\n",
    "print('dimentions of the image:', np.sqrt(data.shape[1]))\n",
    "print('targets:', targets.shape)\n",
    "print('target values:', np.unique(targets))"
   ]
  },
  {
   "cell_type": "code",
   "execution_count": 6,
   "metadata": {},
   "outputs": [],
   "source": [
    "train = data[targets < 30]\n",
    "test = data[targets >= 30]\n",
    "n_faces = 5\n",
    "rng = check_random_state(4)\n",
    "face_ids = rng.randint(test.shape[0], size=(n_faces, ))\n",
    "test = test[face_ids, :]\n",
    "n_pixels = data.shape[1]\n",
    "X_train = train[:, :(n_pixels + 1) // 2]\n",
    "y_train = train[:, n_pixels // 2:]\n",
    "X_test = test[:, :(n_pixels + 1) // 2]\n",
    "y_test = test[:, n_pixels // 2:]"
   ]
  },
  {
   "cell_type": "code",
   "execution_count": null,
   "metadata": {},
   "outputs": [],
   "source": []
  }
 ],
 "metadata": {
  "kernelspec": {
   "display_name": "Python 3",
   "language": "python",
   "name": "python3"
  },
  "language_info": {
   "codemirror_mode": {
    "name": "ipython",
    "version": 3
   },
   "file_extension": ".py",
   "mimetype": "text/x-python",
   "name": "python",
   "nbconvert_exporter": "python",
   "pygments_lexer": "ipython3",
   "version": "3.8.5"
  }
 },
 "nbformat": 4,
 "nbformat_minor": 1
}
