{
 "cells": [
  {
   "cell_type": "code",
   "execution_count": 10,
   "metadata": {
    "collapsed": true
   },
   "outputs": [
    {
     "name": "stdout",
     "output_type": "stream",
     "text": [
      "total_movie_count: 9724\n",
      "total_user_count: 610\n",
      "train_movie_count: 8965\n",
      "train_user_count: 610\n",
      "test_movie_count: 5158\n",
      "test_user_count: 610\n"
     ]
    }
   ],
   "source": [
    "import math\n",
    "import numpy as np\n",
    "import pandas as pd\n",
    "from sklearn.model_selection import train_test_split\n",
    "\n",
    "pd.set_option('display.max_rows', 500)\n",
    "pd.set_option('display.max_columns', 500)\n",
    "pd.set_option('display.width', 1000)\n",
    "\n",
    "moviesPath = \"./ml-latest-small/movies.csv\"\n",
    "ratingsPath = \"./ml-latest-small/ratings.csv\"\n",
    "moviesDF = pd.read_csv(moviesPath, index_col=None)\n",
    "ratingsDF = pd.read_csv(ratingsPath, index_col=None)\n",
    "\n",
    "trainRatingsDF, testRatingsDF = train_test_split(ratingsDF, test_size=0.2)\n",
    "print(\"total_movie_count: \" + str(len(set(ratingsDF['movieId'].values.tolist()))))\n",
    "print(\"total_user_count: \" + str(len(set(ratingsDF['userId'].values.tolist()))))\n",
    "print(\"train_movie_count: \" + str(len(set(trainRatingsDF['movieId'].values.tolist()))))\n",
    "print(\"train_user_count: \" + str(len(set(trainRatingsDF['userId'].values.tolist()))))\n",
    "print(\"test_movie_count: \" + str(len(set(testRatingsDF['movieId'].values.tolist()))))\n",
    "print(\"test_user_count: \" + str(len(set(testRatingsDF['userId'].values.tolist()))))"
   ]
  },
  {
   "cell_type": "code",
   "execution_count": 11,
   "outputs": [],
   "source": [
    "trainRatingsPivotDF = pd.pivot_table(testRatingsDF[['userId', 'movieId', 'rating']], columns=['movieId'],\n",
    "                                     index=['userId'], values='rating', fill_value=0)"
   ],
   "metadata": {
    "collapsed": false,
    "pycharm": {
     "name": "#%%\n"
    }
   }
  },
  {
   "cell_type": "code",
   "execution_count": 12,
   "outputs": [],
   "source": [
    "moviesMap = dict(enumerate(list(trainRatingsPivotDF.columns)))\n",
    "\n",
    "usersMap = dict(enumerate(list(trainRatingsPivotDF.index)))\n",
    "\n",
    "ratingValues = trainRatingsPivotDF.values.tolist()\n"
   ],
   "metadata": {
    "collapsed": false,
    "pycharm": {
     "name": "#%%\n"
    }
   }
  },
  {
   "cell_type": "code",
   "execution_count": 13,
   "outputs": [],
   "source": [
    "def calCosinesimilarity(list1, list2):\n",
    "    res = 0\n",
    "    denominator1 = 0\n",
    "    denominator2 = 0\n",
    "    for (val1, val2) in zip(list1, list2):\n",
    "        res += (val1 * val2)\n",
    "        denominator1 += val1 ** 2\n",
    "        denominator2 += val2 ** 2\n",
    "\n",
    "    return res / (math.sqrt(denominator1 * denominator2))"
   ],
   "metadata": {
    "collapsed": false,
    "pycharm": {
     "name": "#%%\n"
    }
   }
  },
  {
   "cell_type": "code",
   "execution_count": 14,
   "outputs": [],
   "source": [
    "# 根据用户对电影的评分来判断每个用户间的相识度\n",
    "userSimMatrix = np.zeros((len(ratingValues), len(ratingValues)), dtype=np.float32)\n",
    "for i in range(len(ratingValues) - 1):\n",
    "    for j in range(i + 1, len(ratingValues)):\n",
    "        userSimMatrix[i, j] = calCosinesimilarity(ratingValues[i], ratingValues[j])\n",
    "        userSimMatrix[j, i] = userSimMatrix[i, j]"
   ],
   "metadata": {
    "collapsed": false,
    "pycharm": {
     "name": "#%%\n"
    }
   }
  },
  {
   "cell_type": "code",
   "execution_count": 15,
   "outputs": [],
   "source": [
    "# 找到与每个用户最相近的前K个用户\n",
    "userMostSimDict = dict()\n",
    "for i in range(len(ratingValues)):\n",
    "    userMostSimDict[i] = sorted(enumerate(list(userSimMatrix[i])), key=lambda x: x[1], reverse=True)[:10]\n"
   ],
   "metadata": {
    "collapsed": false,
    "pycharm": {
     "name": "#%%\n"
    }
   }
  },
  {
   "cell_type": "code",
   "execution_count": 16,
   "outputs": [
    {
     "ename": "IndexError",
     "evalue": "index 610 is out of bounds for axis 1 with size 610",
     "output_type": "error",
     "traceback": [
      "\u001B[0;31m---------------------------------------------------------------------------\u001B[0m",
      "\u001B[0;31mIndexError\u001B[0m                                Traceback (most recent call last)",
      "\u001B[0;32m<ipython-input-16-52d31308fd2e>\u001B[0m in \u001B[0;36m<module>\u001B[0;34m\u001B[0m\n\u001B[1;32m      8\u001B[0m             \u001B[0;32mfor\u001B[0m \u001B[0;34m(\u001B[0m\u001B[0muser\u001B[0m\u001B[0;34m,\u001B[0m \u001B[0msim\u001B[0m\u001B[0;34m)\u001B[0m \u001B[0;32min\u001B[0m \u001B[0muserMostSimDict\u001B[0m\u001B[0;34m[\u001B[0m\u001B[0mi\u001B[0m\u001B[0;34m]\u001B[0m\u001B[0;34m:\u001B[0m\u001B[0;34m\u001B[0m\u001B[0;34m\u001B[0m\u001B[0m\n\u001B[1;32m      9\u001B[0m                 \u001B[0mval\u001B[0m \u001B[0;34m+=\u001B[0m \u001B[0;34m(\u001B[0m\u001B[0mratingValues\u001B[0m\u001B[0;34m[\u001B[0m\u001B[0muser\u001B[0m\u001B[0;34m]\u001B[0m\u001B[0;34m[\u001B[0m\u001B[0mj\u001B[0m\u001B[0;34m]\u001B[0m \u001B[0;34m*\u001B[0m \u001B[0msim\u001B[0m\u001B[0;34m)\u001B[0m\u001B[0;34m\u001B[0m\u001B[0;34m\u001B[0m\u001B[0m\n\u001B[0;32m---> 10\u001B[0;31m             \u001B[0muserRecommendValues\u001B[0m\u001B[0;34m[\u001B[0m\u001B[0mi\u001B[0m\u001B[0;34m,\u001B[0m \u001B[0mj\u001B[0m\u001B[0;34m]\u001B[0m \u001B[0;34m=\u001B[0m \u001B[0mval\u001B[0m\u001B[0;34m\u001B[0m\u001B[0;34m\u001B[0m\u001B[0m\n\u001B[0m\u001B[1;32m     11\u001B[0m \u001B[0;34m\u001B[0m\u001B[0m\n",
      "\u001B[0;31mIndexError\u001B[0m: index 610 is out of bounds for axis 1 with size 610"
     ]
    }
   ],
   "source": [
    "# 用这K个用户的喜好中目标用户没有看过的电影进行推荐\n",
    "userRecommendValues = np.zeros((len(ratingValues), len(ratingValues)), dtype=np.float32)\n",
    "\n",
    "for i in range(len(ratingValues)):\n",
    "    for j in range(len(ratingValues[i])):\n",
    "        if ratingValues[i][j] == 0:\n",
    "            val = 0\n",
    "            for (user, sim) in userMostSimDict[i]:\n",
    "                val += (ratingValues[user][j] * sim)\n",
    "            userRecommendValues[i, j] = val"
   ],
   "metadata": {
    "collapsed": false,
    "pycharm": {
     "name": "#%%\n"
    }
   }
  },
  {
   "cell_type": "code",
   "execution_count": null,
   "outputs": [],
   "source": [
    "userRecommendDict = dict()\n",
    "for i in range(len(ratingValues)):\n",
    "    userRecommendDict[i] = sorted(enumerate(list(userRecommendValues[i])), key=lambda x: x[1], reverse=True)[:10]\n"
   ],
   "metadata": {
    "collapsed": false,
    "pycharm": {
     "name": "#%%\n"
    }
   }
  },
  {
   "cell_type": "code",
   "execution_count": null,
   "outputs": [],
   "source": [
    "# 将一开始的索引转换为原来用户id与电影id\n",
    "userRecommendList = []\n",
    "for key, value in userRecommendDict.items():\n",
    "    user = usersMap[key]\n",
    "    for (movieId, val) in value:\n",
    "        userRecommendList.append([user, moviesMap[movieId]])\n"
   ],
   "metadata": {
    "collapsed": false,
    "pycharm": {
     "name": "#%%\n"
    }
   }
  },
  {
   "cell_type": "code",
   "execution_count": 17,
   "outputs": [
    {
     "ename": "NameError",
     "evalue": "name 'userRecommendList' is not defined",
     "output_type": "error",
     "traceback": [
      "\u001B[0;31m---------------------------------------------------------------------------\u001B[0m",
      "\u001B[0;31mNameError\u001B[0m                                 Traceback (most recent call last)",
      "\u001B[0;32m<ipython-input-17-8ab43e8f7a97>\u001B[0m in \u001B[0;36m<module>\u001B[0;34m\u001B[0m\n\u001B[1;32m      1\u001B[0m \u001B[0;31m# 将推荐结果的电影id转换成对应的电影名\u001B[0m\u001B[0;34m\u001B[0m\u001B[0;34m\u001B[0m\u001B[0;34m\u001B[0m\u001B[0m\n\u001B[0;32m----> 2\u001B[0;31m \u001B[0mrecommendDF\u001B[0m \u001B[0;34m=\u001B[0m \u001B[0mpd\u001B[0m\u001B[0;34m.\u001B[0m\u001B[0mDataFrame\u001B[0m\u001B[0;34m(\u001B[0m\u001B[0muserRecommendList\u001B[0m\u001B[0;34m,\u001B[0m \u001B[0mcolumns\u001B[0m\u001B[0;34m=\u001B[0m\u001B[0;34m[\u001B[0m\u001B[0;34m'userId'\u001B[0m\u001B[0;34m,\u001B[0m \u001B[0;34m'movieId'\u001B[0m\u001B[0;34m]\u001B[0m\u001B[0;34m)\u001B[0m\u001B[0;34m\u001B[0m\u001B[0;34m\u001B[0m\u001B[0m\n\u001B[0m\u001B[1;32m      3\u001B[0m \u001B[0mrecommendDF\u001B[0m \u001B[0;34m=\u001B[0m \u001B[0mpd\u001B[0m\u001B[0;34m.\u001B[0m\u001B[0mmerge\u001B[0m\u001B[0;34m(\u001B[0m\u001B[0mrecommendDF\u001B[0m\u001B[0;34m,\u001B[0m \u001B[0mmoviesDF\u001B[0m\u001B[0;34m[\u001B[0m\u001B[0;34m[\u001B[0m\u001B[0;34m'movieId'\u001B[0m\u001B[0;34m,\u001B[0m \u001B[0;34m'title'\u001B[0m\u001B[0;34m]\u001B[0m\u001B[0;34m]\u001B[0m\u001B[0;34m,\u001B[0m \u001B[0mon\u001B[0m\u001B[0;34m=\u001B[0m\u001B[0;34m'movieId'\u001B[0m\u001B[0;34m,\u001B[0m \u001B[0mhow\u001B[0m\u001B[0;34m=\u001B[0m\u001B[0;34m'inner'\u001B[0m\u001B[0;34m)\u001B[0m\u001B[0;34m\u001B[0m\u001B[0;34m\u001B[0m\u001B[0m\n\u001B[1;32m      4\u001B[0m \u001B[0mprint\u001B[0m\u001B[0;34m(\u001B[0m\u001B[0mrecommendDF\u001B[0m\u001B[0;34m.\u001B[0m\u001B[0mtail\u001B[0m\u001B[0;34m(\u001B[0m\u001B[0;36m10\u001B[0m\u001B[0;34m)\u001B[0m\u001B[0;34m)\u001B[0m\u001B[0;34m\u001B[0m\u001B[0;34m\u001B[0m\u001B[0m\n",
      "\u001B[0;31mNameError\u001B[0m: name 'userRecommendList' is not defined"
     ]
    }
   ],
   "source": [
    "# 将推荐结果的电影id转换成对应的电影名\n",
    "recommendDF = pd.DataFrame(userRecommendList, columns=['userId', 'movieId'])\n",
    "recommendDF = pd.merge(recommendDF, moviesDF[['movieId', 'title']], on='movieId', how='inner')\n",
    "print(recommendDF.tail(10))"
   ],
   "metadata": {
    "collapsed": false,
    "pycharm": {
     "name": "#%%\n"
    }
   }
  }
 ],
 "metadata": {
  "kernelspec": {
   "display_name": "Python 3",
   "language": "python",
   "name": "python3"
  },
  "language_info": {
   "codemirror_mode": {
    "name": "ipython",
    "version": 2
   },
   "file_extension": ".py",
   "mimetype": "text/x-python",
   "name": "python",
   "nbconvert_exporter": "python",
   "pygments_lexer": "ipython2",
   "version": "2.7.6"
  }
 },
 "nbformat": 4,
 "nbformat_minor": 0
}