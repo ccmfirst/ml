{
 "cells": [
  {
   "cell_type": "code",
   "execution_count": 1,
   "metadata": {
    "collapsed": true
   },
   "outputs": [],
   "source": [
    "from sklearn.datasets import load_iris\n",
    "from sklearn.model_selection import train_test_split\n",
    "from collections import Counter\n",
    "import math\n",
    "from math import log\n",
    "import pprint"
   ]
  },
  {
   "cell_type": "code",
   "execution_count": 2,
   "outputs": [
    {
     "name": "stdout",
     "output_type": "stream",
     "text": [
      "(0.1, 0.9) 0.3251\n",
      "(0.2, 0.8) 0.5004\n",
      "(0.3, 0.7) 0.6109\n",
      "(0.4, 0.6) 0.673\n",
      "(0.5, 0.5) 0.6931\n"
     ]
    }
   ],
   "source": [
    "import numpy as np\n",
    "import matplotlib.pyplot as plt\n",
    "\n",
    "for p1 in np.linspace(0.1, 0.5, 5):\n",
    "    p1 = np.round(p1, 4)\n",
    "    p2 = np.round((1-p1), 4)\n",
    "    g1 = np.log(p1)\n",
    "    g2 = np.log(p2)\n",
    "    h = np.round(-(p1*g1 + p2*g2), 4)\n",
    "    print((p1, p2), h)"
   ],
   "metadata": {
    "collapsed": false,
    "pycharm": {
     "name": "#%%\n"
    }
   }
  },
  {
   "cell_type": "code",
   "execution_count": 4,
   "outputs": [],
   "source": [
    "def data_51():\n",
    "    datasets = np.array(\n",
    "        [\n",
    "            ['青年', '否', '否', '一般', '否'],\n",
    "            ['青年', '否', '否', '好', '否'],\n",
    "            ['青年', '是', '否', '好', '是'],\n",
    "            ['青年', '是', '是', '一般', '是'],\n",
    "            ['青年', '否', '否', '一般', '否'],\n",
    "            ['中年', '否', '否', '一般', '否'],\n",
    "            ['中年', '否', '否', '好', '否'],\n",
    "            ['中年', '是', '是', '好', '是'],\n",
    "            ['中年', '否', '是', '非常好', '是'],\n",
    "            ['中年', '否', '是', '非常好', '是'],\n",
    "            ['老年', '否', '是', '非常好', '是'],\n",
    "            ['老年', '否', '是', '好', '是'],\n",
    "            ['老年', '是', '否', '好', '是'],\n",
    "            ['老年', '是', '否', '非常好', '是'],\n",
    "            ['老年', '否', '否', '一般', '否'],\n",
    "        ])\n",
    "    X = datasets[:,:-1]\n",
    "    y = datasets[:,-1]\n",
    "    feature_names = [u'年龄', u'有工作', u'有自己的房子', u'信贷情况']\n",
    "    return X,y,feature_names\n",
    "\n",
    "def data_51_num():\n",
    "    datasets = np.array(\n",
    "        [\n",
    "            [1, 0, 0, 1, 0],\n",
    "            [1, 0, 0, 2, 0],\n",
    "            [1, 1, 0, 2, 1],\n",
    "            [1, 1, 1, 1, 1],\n",
    "            [1, 0, 0, 1, 0],\n",
    "            [2, 0, 0, 1, 0],\n",
    "            [2, 0, 0, 2, 0],\n",
    "            [2, 1, 1, 2, 1],\n",
    "            [2, 0, 1, 3, 1],\n",
    "            [2, 0, 1, 3, 1],\n",
    "            [3, 0, 1, 3, 1],\n",
    "            [3, 0, 1, 2, 1],\n",
    "            [3, 1, 0, 2, 1],\n",
    "            [3, 1, 0, 3, 1],\n",
    "            [3, 0, 0, 1, 0],\n",
    "        ])\n",
    "    X = datasets[:,:-1]\n",
    "    y = datasets[:,-1]\n",
    "    feature_names = ['age', 'work', 'house', 'credit']\n",
    "    return X,y,feature_names"
   ],
   "metadata": {
    "collapsed": false,
    "pycharm": {
     "name": "#%%\n"
    }
   }
  },
  {
   "cell_type": "code",
   "execution_count": 7,
   "outputs": [
    {
     "data": {
      "text/plain": "0.9709505944546686"
     },
     "execution_count": 7,
     "metadata": {},
     "output_type": "execute_result"
    }
   ],
   "source": [
    "def entropy(y):\n",
    "    N = len(y)\n",
    "    C = Counter(y)\n",
    "    e = -sum([v/N * log(v/N, 2) for v in C.values()])\n",
    "    return e\n",
    "\n",
    "X,y,feature_names = data_51()\n",
    "e = entropy(y)\n",
    "e"
   ],
   "metadata": {
    "collapsed": false,
    "pycharm": {
     "name": "#%%\n"
    }
   }
  },
  {
   "cell_type": "code",
   "execution_count": 6,
   "outputs": [
    {
     "name": "stdout",
     "output_type": "stream",
     "text": [
      "0-th entropy (年龄) is: 0.8879430945988998\n",
      "1-th entropy (有工作) is: 0.6473003963031123\n",
      "2-th entropy (有自己的房子) is: 0.5509775004326937\n",
      "3-th entropy (信贷情况) is: 0.6079610319175832\n"
     ]
    }
   ],
   "source": [
    "def conditional_entropy(X, y, feature=0):\n",
    "    N = len(y)\n",
    "    C = Counter(X[:, feature])\n",
    "    F = {c:[] for c in C}\n",
    "    for c in C:\n",
    "        F[c] = y[X[:, feature]==c]\n",
    "\n",
    "    a = [(v/N) * entropy(F[c]) for c,v in C.items()]\n",
    "    ce = sum(a)\n",
    "    return ce\n",
    "\n",
    "X, y, feature_names = data_51()\n",
    "for i in range(len(feature_names)):\n",
    "    ce = conditional_entropy(X, y, i)\n",
    "    print('{}-th entropy ({}) is: {}'.format(i, feature_names[i], ce))"
   ],
   "metadata": {
    "collapsed": false,
    "pycharm": {
     "name": "#%%\n"
    }
   }
  },
  {
   "cell_type": "code",
   "execution_count": null,
   "outputs": [],
   "source": [
    "def information_gain(e, ce):\n",
    "    return e - ce\n",
    "\n",
    "def information_gain_train(X, y):\n",
    "    features = X.shape[1]\n",
    "    e = entropy(y)\n",
    "    best_feature = []\n",
    "    for f in range(features):\n",
    "        f_information_gain = information_gain(e, conditional_entropy(X, y, f))"
   ],
   "metadata": {
    "collapsed": false,
    "pycharm": {
     "name": "#%%\n"
    }
   }
  }
 ],
 "metadata": {
  "kernelspec": {
   "display_name": "Python 3",
   "language": "python",
   "name": "python3"
  },
  "language_info": {
   "codemirror_mode": {
    "name": "ipython",
    "version": 2
   },
   "file_extension": ".py",
   "mimetype": "text/x-python",
   "name": "python",
   "nbconvert_exporter": "python",
   "pygments_lexer": "ipython2",
   "version": "2.7.6"
  }
 },
 "nbformat": 4,
 "nbformat_minor": 0
}