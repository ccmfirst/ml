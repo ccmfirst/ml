{
 "cells": [
  {
   "cell_type": "code",
   "execution_count": 2,
   "metadata": {
    "collapsed": true,
    "pycharm": {
     "name": "#%% 感知机\n"
    }
   },
   "outputs": [
    {
     "data": {
      "text/plain": "['sepal length (cm)',\n 'sepal width (cm)',\n 'petal length (cm)',\n 'petal width (cm)']"
     },
     "execution_count": 2,
     "metadata": {},
     "output_type": "execute_result"
    }
   ],
   "source": [
    "import numpy as np\n",
    "from sklearn.datasets import load_iris\n",
    "import matplotlib.pyplot as plt\n",
    "\n",
    "iris = load_iris()\n",
    "dir(iris)\n"
   ]
  },
  {
   "cell_type": "code",
   "execution_count": null,
   "outputs": [],
   "source": [
    "iris.feature_names\n"
   ],
   "metadata": {
    "collapsed": false,
    "pycharm": {
     "name": "#%%\n"
    }
   }
  },
  {
   "cell_type": "code",
   "execution_count": 3,
   "outputs": [
    {
     "data": {
      "text/plain": "(150, 2)"
     },
     "execution_count": 3,
     "metadata": {},
     "output_type": "execute_result"
    }
   ],
   "source": [
    "X = iris.data[:, [0, 1]]\n",
    "X.shape\n"
   ],
   "metadata": {
    "collapsed": false,
    "pycharm": {
     "name": "#%%\n"
    }
   }
  },
  {
   "cell_type": "code",
   "execution_count": 4,
   "outputs": [
    {
     "data": {
      "text/plain": "(150,)"
     },
     "execution_count": 4,
     "metadata": {},
     "output_type": "execute_result"
    }
   ],
   "source": [
    "y_target = iris.target\n",
    "y_target.shape"
   ],
   "metadata": {
    "collapsed": false,
    "pycharm": {
     "name": "#%%\n"
    }
   }
  },
  {
   "cell_type": "code",
   "execution_count": 5,
   "outputs": [
    {
     "data": {
      "text/plain": "<matplotlib.legend.Legend at 0x7fb4d5b815b0>"
     },
     "execution_count": 5,
     "metadata": {},
     "output_type": "execute_result"
    },
    {
     "data": {
      "text/plain": "<Figure size 432x288 with 1 Axes>",
      "image/png": "[encoded data removed]"
     },
     "metadata": {
      "needs_background": "light"
     },
     "output_type": "display_data"
    }
   ],
   "source": [
    "plt.scatter(X[y_target==0,0], X[y_target==0, 1], label='class 0')\n",
    "plt.scatter(X[y_target==1,0], X[y_target==1,1], label='class 1')\n",
    "plt.scatter(X[y_target==2,0], X[y_target==2,1], label='class 2')\n",
    "plt.xlabel(\"sepal length\")\n",
    "plt.ylabel(\"sepal width\")\n",
    "plt.legend()"
   ],
   "metadata": {
    "collapsed": false,
    "pycharm": {
     "name": "#%%\n"
    }
   }
  },
  {
   "cell_type": "code",
   "execution_count": 7,
   "outputs": [
    {
     "data": {
      "text/plain": "array([0, 1, 2])"
     },
     "execution_count": 7,
     "metadata": {},
     "output_type": "execute_result"
    }
   ],
   "source": [
    "y = y_target.copy()\n",
    "np.unique(y)"
   ],
   "metadata": {
    "collapsed": false,
    "pycharm": {
     "name": "#%%\n"
    }
   }
  },
  {
   "cell_type": "code",
   "execution_count": 8,
   "outputs": [
    {
     "data": {
      "text/plain": "array([0, 1])"
     },
     "execution_count": 8,
     "metadata": {},
     "output_type": "execute_result"
    }
   ],
   "source": [
    "y[y==2]=1\n",
    "np.unique(y)"
   ],
   "metadata": {
    "collapsed": false,
    "pycharm": {
     "name": "#%%\n"
    }
   }
  },
  {
   "cell_type": "code",
   "execution_count": 9,
   "outputs": [
    {
     "data": {
      "text/plain": "<matplotlib.legend.Legend at 0x7fb4d60133a0>"
     },
     "execution_count": 9,
     "metadata": {},
     "output_type": "execute_result"
    },
    {
     "data": {
      "text/plain": "<Figure size 432x288 with 1 Axes>",
      "image/png": "[encoded data removed]"
     },
     "metadata": {
      "needs_background": "light"
     },
     "output_type": "display_data"
    }
   ],
   "source": [
    "plt.scatter(X[y==0,0], X[y==0,1], label='class 0')\n",
    "plt.scatter(X[y==1,0], X[y==1,1], label='class 12')\n",
    "plt.xlabel('sepal length')\n",
    "plt.ylabel('sepal width')\n",
    "plt.legend()\n"
   ],
   "metadata": {
    "collapsed": false,
    "pycharm": {
     "name": "#%%\n"
    }
   }
  },
  {
   "cell_type": "code",
   "execution_count": 10,
   "outputs": [
    {
     "data": {
      "text/plain": "array([-1,  1])"
     },
     "execution_count": 10,
     "metadata": {},
     "output_type": "execute_result"
    }
   ],
   "source": [
    "y[y==0] = -1\n",
    "np.unique(y)"
   ],
   "metadata": {
    "collapsed": false,
    "pycharm": {
     "name": "#%%\n"
    }
   }
  },
  {
   "cell_type": "code",
   "execution_count": 15,
   "outputs": [],
   "source": [
    "class Model:\n",
    "    def __init__(self):\n",
    "        pass\n",
    "\n",
    "    def sign(self, x, w, b):\n",
    "\n",
    "        y = np.dot(x, w) + b\n",
    "\n",
    "        return y\n",
    "\n",
    "    def fit(self, x_train, y_train):\n",
    "\n",
    "        self.w = np.zeros(x_train.shape[1], dtype=np.float32)\n",
    "\n",
    "        self.b = 0\n",
    "\n",
    "        self.l_rate = 0.1\n",
    "\n",
    "        is_wrong = False\n",
    "\n",
    "        while not is_wrong:\n",
    "\n",
    "            wring_count = 0\n",
    "            for d in range(len(x_train)):\n",
    "                x = x_train[d]\n",
    "                y = y_train[d]\n",
    "                if y * self.sign(x, self.w, self.b) <= 0:\n",
    "                    self.w = self.w + self.l_rate * np.dot(y, x)\n",
    "                    self.b = self.b + self.l_rate * y\n",
    "                    wring_count += 1\n",
    "\n",
    "            if wring_count == 0:\n",
    "                is_wrong = True\n",
    "        return \"Perceptron Model!\"\n",
    "\n",
    "    def predict(self, x):\n",
    "        y_pred = self.sign(x, self.w, self.b)\n",
    "        y_pred[y_pred>0] = 1\n",
    "        y_pred[y_pred<0] = -1\n",
    "        return y_pred.astype(int)\n",
    "\n",
    "    def score(self):\n",
    "        pass"
   ],
   "metadata": {
    "collapsed": false,
    "pycharm": {
     "name": "#%%\n"
    }
   }
  },
  {
   "cell_type": "code",
   "execution_count": 18,
   "outputs": [
    {
     "data": {
      "text/plain": "array([  7.9 , -10.07])"
     },
     "execution_count": 18,
     "metadata": {},
     "output_type": "execute_result"
    }
   ],
   "source": [
    "perceptron = Model()\n",
    "perceptron.fit(X, y)\n",
    "perceptron.w"
   ],
   "metadata": {
    "collapsed": false,
    "pycharm": {
     "name": "#%%\n"
    }
   }
  },
  {
   "cell_type": "code",
   "execution_count": 19,
   "outputs": [
    {
     "data": {
      "text/plain": "-12.399999999999972"
     },
     "execution_count": 19,
     "metadata": {},
     "output_type": "execute_result"
    }
   ],
   "source": [
    "perceptron.b\n"
   ],
   "metadata": {
    "collapsed": false,
    "pycharm": {
     "name": "#%%\n"
    }
   }
  },
  {
   "cell_type": "code",
   "execution_count": 20,
   "outputs": [
    {
     "name": "stdout",
     "output_type": "stream",
     "text": [
      "1.0\n"
     ]
    }
   ],
   "source": [
    "y_pred = perceptron.predict(X)\n",
    "\n",
    "from sklearn.metrics import accuracy_score\n",
    "print(accuracy_score(y, y_pred))"
   ],
   "metadata": {
    "collapsed": false,
    "pycharm": {
     "name": "#%%\n"
    }
   }
  },
  {
   "cell_type": "code",
   "execution_count": 21,
   "outputs": [
    {
     "data": {
      "text/plain": "<matplotlib.legend.Legend at 0x7fb4d66eb820>"
     },
     "execution_count": 21,
     "metadata": {},
     "output_type": "execute_result"
    },
    {
     "data": {
      "text/plain": "<Figure size 432x288 with 1 Axes>",
      "image/png": "[encoded data removed]"
     },
     "metadata": {
      "needs_background": "light"
     },
     "output_type": "display_data"
    }
   ],
   "source": [
    "x_points = np.linspace(4, 7, 10)\n",
    "y_ = -(perceptron.w[0] * x_points + perceptron.b) / perceptron.w[1]\n",
    "plt.plot(x_points, y_)\n",
    "\n",
    "plt.scatter(X[y==-1,0], X[y==-1,1], label='class -1')\n",
    "plt.scatter(X[y==1,0], X[y==1,1], label='class +1')\n",
    "plt.xlabel('sepal length')\n",
    "plt.ylabel('sepal width')\n",
    "plt.legend()"
   ],
   "metadata": {
    "collapsed": false,
    "pycharm": {
     "name": "#%%\n"
    }
   }
  },
  {
   "cell_type": "code",
   "execution_count": 26,
   "outputs": [],
   "source": [
    "class RandModel:\n",
    "    def __init__(self, l_rate = 0.1):\n",
    "        self.l_rate = l_rate\n",
    "\n",
    "    def sign(self, x, w, b):\n",
    "\n",
    "        y = np.dot(x, w) + b\n",
    "\n",
    "        return y\n",
    "\n",
    "    def fit(self, x_train, y_train):\n",
    "\n",
    "        self.wrong = np.inf\n",
    "\n",
    "        it = 0\n",
    "\n",
    "        it_max = 1000\n",
    "\n",
    "        is_wrong = False\n",
    "\n",
    "        while not is_wrong:\n",
    "\n",
    "            wb = 2*np.random.random_sample((3, 1)) - 1\n",
    "\n",
    "            w = wb[: 2]\n",
    "\n",
    "            b = wb[2]\n",
    "\n",
    "            wrong_count = 0\n",
    "\n",
    "            for d in range(len(x_train)):\n",
    "                x = x_train[d]\n",
    "\n",
    "                y = y_train[d]\n",
    "\n",
    "                if y * self.sign(x, w, b) <= 0:\n",
    "\n",
    "                    wrong_count += 1\n",
    "\n",
    "            if wrong_count == 0:\n",
    "                is_wrong = True\n",
    "\n",
    "            if wrong_count < self.wrong:\n",
    "                self.wrong = wrong_count\n",
    "                self.w = w\n",
    "                self.b = b\n",
    "\n",
    "            it += 1\n",
    "            if it > it_max:\n",
    "                break\n",
    "\n",
    "        return \"Perceptron Model!\"\n",
    "\n",
    "    def predict(self, x):\n",
    "        y_pred = self.sign(x, self.w, self.b)\n",
    "        y_pred[y_pred > 0] = 1\n",
    "        y_pred[y_pred < 0] = -1\n",
    "\n",
    "        return y_pred.astype(int)\n",
    "\n",
    "    def score(self):\n",
    "        pass"
   ],
   "metadata": {
    "collapsed": false,
    "pycharm": {
     "name": "#%%\n"
    }
   }
  },
  {
   "cell_type": "code",
   "execution_count": 27,
   "outputs": [
    {
     "data": {
      "text/plain": "array([[ 0.65906116],\n       [-0.93549838]])"
     },
     "execution_count": 27,
     "metadata": {},
     "output_type": "execute_result"
    }
   ],
   "source": [
    "rand_model = RandModel()\n",
    "\n",
    "rand_model.fit(X, y)\n",
    "\n",
    "rand_model.w"
   ],
   "metadata": {
    "collapsed": false,
    "pycharm": {
     "name": "#%%\n"
    }
   }
  },
  {
   "cell_type": "code",
   "execution_count": 28,
   "outputs": [
    {
     "data": {
      "text/plain": "1"
     },
     "execution_count": 28,
     "metadata": {},
     "output_type": "execute_result"
    }
   ],
   "source": [
    "pR = RandModel()\n",
    "pR.fit(X, y)\n",
    "np.round(pR.w,4)\n",
    "np.round(pR.b,4)\n",
    "pR.wrong"
   ],
   "metadata": {
    "collapsed": false,
    "pycharm": {
     "name": "#%%\n"
    }
   }
  },
  {
   "cell_type": "code",
   "execution_count": 29,
   "outputs": [
    {
     "data": {
      "text/plain": "<matplotlib.legend.Legend at 0x7fb4d63baf70>"
     },
     "execution_count": 29,
     "metadata": {},
     "output_type": "execute_result"
    },
    {
     "data": {
      "text/plain": "<Figure size 432x288 with 1 Axes>",
      "image/png": "[encoded data removed]"
     },
     "metadata": {
      "needs_background": "light"
     },
     "output_type": "display_data"
    }
   ],
   "source": [
    "x_points = np.linspace(4, 7, 10)\n",
    "y_ = -(pR.w[0] * x_points + pR.b) / pR.w[1]\n",
    "plt.plot(x_points, y_)\n",
    "\n",
    "plt.scatter(X[y==-1,0], X[y==-1,1], label='class 0')\n",
    "plt.scatter(X[y==1,0], X[y==1,1], label='class 12')\n",
    "plt.xlabel('sepal length')\n",
    "plt.ylabel('sepal width')\n",
    "plt.legend()"
   ],
   "metadata": {
    "collapsed": false,
    "pycharm": {
     "name": "#%%\n"
    }
   }
  },
  {
   "cell_type": "code",
   "execution_count": 30,
   "outputs": [],
   "source": [
    "X21 = np.array([[3,3],\n",
    "             [4,3],\n",
    "             [1,1]])\n",
    "y21 = np.array([1,1,-1])\n",
    "\n"
   ],
   "metadata": {
    "collapsed": false,
    "pycharm": {
     "name": "#%%\n"
    }
   }
  },
  {
   "cell_type": "code",
   "execution_count": 31,
   "outputs": [
    {
     "data": {
      "text/plain": "'0.23.2'"
     },
     "execution_count": 31,
     "metadata": {},
     "output_type": "execute_result"
    }
   ],
   "source": [
    "import sklearn\n",
    "from sklearn.linear_model import Perceptron\n",
    "sklearn.__version__"
   ],
   "metadata": {
    "collapsed": false,
    "pycharm": {
     "name": "#%%\n"
    }
   }
  },
  {
   "cell_type": "code",
   "execution_count": 32,
   "outputs": [
    {
     "name": "stdout",
     "output_type": "stream",
     "text": [
      "[[1. 0.]]\n"
     ]
    }
   ],
   "source": [
    "clf = Perceptron(fit_intercept=True,\n",
    "                 max_iter=1000,\n",
    "                 tol=None,\n",
    "                 shuffle=True)\n",
    "\n",
    "clf.fit(X21, y21)\n",
    "\n",
    "print(clf.coef_)"
   ],
   "metadata": {
    "collapsed": false,
    "pycharm": {
     "name": "#%%\n"
    }
   }
  },
  {
   "cell_type": "code",
   "execution_count": 33,
   "outputs": [
    {
     "name": "stdout",
     "output_type": "stream",
     "text": [
      "[-2.]\n"
     ]
    }
   ],
   "source": [
    "print(clf.intercept_)"
   ],
   "metadata": {
    "collapsed": false,
    "pycharm": {
     "name": "#%%\n"
    }
   }
  },
  {
   "cell_type": "code",
   "execution_count": 34,
   "outputs": [
    {
     "data": {
      "text/plain": "<matplotlib.legend.Legend at 0x7fb4d7365ca0>"
     },
     "execution_count": 34,
     "metadata": {},
     "output_type": "execute_result"
    },
    {
     "data": {
      "text/plain": "<Figure size 432x288 with 1 Axes>",
      "image/png": "[encoded data removed]"
     },
     "metadata": {
      "needs_background": "light"
     },
     "output_type": "display_data"
    }
   ],
   "source": [
    "sw = clf.coef_[0]\n",
    "sb = clf.intercept_[0]\n",
    "\n",
    "x_points = np.linspace(-3, 7, 10)\n",
    "if sw[1] == 0:\n",
    "    sw[1] += 0.0001\n",
    "y_ = -(sw[0] * x_points + sb) / sw[1]\n",
    "\n",
    "plt.plot(x_points, y_)\n",
    "plt.scatter(X21[y21==-1,0], X21[y21==-1,1], label='class -1')\n",
    "plt.scatter(X21[y21==1,0], X21[y21==1,1], label='class +1')\n",
    "plt.xlabel('X[0]')\n",
    "plt.ylabel('X[1]')\n",
    "plt.legend()\n"
   ],
   "metadata": {
    "collapsed": false,
    "pycharm": {
     "name": "#%%\n"
    }
   }
  }
 ],
 "metadata": {
  "kernelspec": {
   "display_name": "Python 3",
   "language": "python",
   "name": "python3"
  },
  "language_info": {
   "codemirror_mode": {
    "name": "ipython",
    "version": 2
   },
   "file_extension": ".py",
   "mimetype": "text/x-python",
   "name": "python",
   "nbconvert_exporter": "python",
   "pygments_lexer": "ipython2",
   "version": "2.7.6"
  }
 },
 "nbformat": 4,
 "nbformat_minor": 0
}