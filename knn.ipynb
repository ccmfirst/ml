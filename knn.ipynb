{
 "cells": [
  {
   "cell_type": "code",
   "execution_count": 1,
   "metadata": {
    "collapsed": true,
    "pycharm": {
     "name": "#%% k近邻\n"
    }
   },
   "outputs": [],
   "source": [
    "import math\n",
    "\n",
    "def L(x, y, p=2):\n",
    "\n",
    "    if len(x) == len(y) and len(x) > 1:\n",
    "\n",
    "        sum = 0\n",
    "\n",
    "        for i in range(len(x)):\n",
    "\n",
    "            sum += math.pow(abs(x[i] - y[i]), p)\n",
    "\n",
    "        return math.pow(sum, 1 / p)\n",
    "\n",
    "    else:\n",
    "        return 0\n",
    "\n",
    "\n"
   ]
  },
  {
   "cell_type": "code",
   "execution_count": 2,
   "outputs": [
    {
     "name": "stdout",
     "output_type": "stream",
     "text": [
      "L(x1,x2,1)=4.00/4.00,\tL(x1,x3,1)=6.00/6.00\n",
      "L(x1,x2,2)=4.00/4.00,\tL(x1,x3,2)=4.24/4.24\n",
      "L(x1,x2,3)=4.00/4.00,\tL(x1,x3,3)=3.78/3.78\n",
      "L(x1,x2,4)=4.00/4.00,\tL(x1,x3,4)=3.57/3.57\n"
     ]
    }
   ],
   "source": [
    "import numpy as np\n",
    "\n",
    "x1 = [1, 1]\n",
    "x2 = [5, 1]\n",
    "x3 = [4, 4]\n",
    "\n",
    "for i in range(1, 5):\n",
    "    d2 = L(x1, x2, p = i)\n",
    "    d2a = np.linalg.norm(np.array(x1) - np.array(x2), ord=i)\n",
    "    d3 = L(x1, x3, p=i)\n",
    "    d3a = np.linalg.norm(np.array(x1) - np.array(x3), ord=i)\n",
    "    print('L(x1,x2,{})={:.2f}/{:.2f},\\tL(x1,x3,{})={:.2f}/{:.2f}'.format(i,d2,d2a,i,d3,d3a))"
   ],
   "metadata": {
    "collapsed": false,
    "pycharm": {
     "name": "#%%\n"
    }
   }
  },
  {
   "cell_type": "code",
   "execution_count": 3,
   "outputs": [],
   "source": [
    "import numpy as np\n",
    "import matplotlib.pyplot as plt\n",
    "from sklearn.datasets import load_iris"
   ],
   "metadata": {
    "collapsed": false,
    "pycharm": {
     "name": "#%%\n"
    }
   }
  },
  {
   "cell_type": "code",
   "execution_count": 4,
   "outputs": [
    {
     "data": {
      "text/plain": "<matplotlib.legend.Legend at 0x7ff40dcb9f40>"
     },
     "execution_count": 4,
     "metadata": {},
     "output_type": "execute_result"
    },
    {
     "data": {
      "text/plain": "<Figure size 432x288 with 1 Axes>",
      "image/png": "[encoded data removed]"
     },
     "metadata": {
      "needs_background": "light"
     },
     "output_type": "display_data"
    }
   ],
   "source": [
    "iris = load_iris()\n",
    "dir(iris)\n",
    "iris.feature_names\n",
    "X = iris.data[:,:2]\n",
    "y = iris.target\n",
    "\n",
    "plt.scatter(X[y==0,0], X[y==0,1], label=iris.target_names[0])\n",
    "plt.scatter(X[y==1,0], X[y==1,1], label=iris.target_names[1])\n",
    "plt.scatter(X[y==2,0], X[y==2,1], label=iris.target_names[2])\n",
    "plt.xlabel(iris.feature_names[0])\n",
    "plt.ylabel(iris.feature_names[1])\n",
    "plt.legend()"
   ],
   "metadata": {
    "collapsed": false,
    "pycharm": {
     "name": "#%%\n"
    }
   }
  },
  {
   "cell_type": "code",
   "execution_count": 5,
   "outputs": [
    {
     "data": {
      "text/plain": "<Figure size 432x288 with 1 Axes>",
      "image/png": "[encoded data removed]"
     },
     "metadata": {
      "needs_background": "light"
     },
     "output_type": "display_data"
    }
   ],
   "source": [
    "from sklearn.model_selection import  train_test_split\n",
    "y_true = y.copy()\n",
    "y_true[y_true==2] = 1\n",
    "\n",
    "plt.scatter(X[y_true==0,0], X[y_true==0,1], label=iris.target_names[0])\n",
    "plt.scatter(X[y_true==1,0], X[y_true==1,1], label=iris.target_names[1]+'/'+iris.target_names[2])\n",
    "plt.xlabel(iris.feature_names[0])\n",
    "plt.ylabel(iris.feature_names[1])\n",
    "plt.legend()\n",
    "\n",
    "X_train, X_test, y_train, y_test = train_test_split(X, y_true, test_size=0.2)"
   ],
   "metadata": {
    "collapsed": false,
    "pycharm": {
     "name": "#%%\n"
    }
   }
  },
  {
   "cell_type": "code",
   "execution_count": 12,
   "outputs": [],
   "source": [
    "from collections import Counter\n",
    "\n",
    "class KNN:\n",
    "    def __init__(self, x_train, y_train, n_neigbors=3, p=2):\n",
    "        self.n = n_neigbors\n",
    "        self.p = p\n",
    "        self.x_train = x_train\n",
    "        self.y_train = y_train\n",
    "\n",
    "    def predict(self, x):\n",
    "\n",
    "        knn_list = []\n",
    "        for i in range(self.n):\n",
    "            dist = np.linalg.norm(X - self.x_train[i], ord=self.p)\n",
    "            knn_list.append((dist, self.y_train[i]))\n",
    "\n",
    "        for i in range(self.n, len(self.x_train)):\n",
    "            max_index = knn_list.index(max(knn_list, key=lambda x: x[0]))\n",
    "            dist = np.linalg.norm(X - self.x_train[i], ord=self.p)\n",
    "            if knn_list[max_index][0] > dist:\n",
    "                knn_list[max_index] = (dist, self.y_train[i])\n",
    "\n",
    "        knn = [k[-1] for k in knn_list]\n",
    "        count_pairs = Counter(knn)\n",
    "        max_count = sorted(count_pairs.items(), key=lambda  x: x[1])[-1][0]\n",
    "        return max_count\n",
    "\n",
    "    def score(self, x_test, y_test):\n",
    "        right_count = 0\n",
    "        n = 10\n",
    "        for x, y in zip(x_test, y_test):\n",
    "            label = self.predict(x)\n",
    "            if label == y:\n",
    "                right_count += 1\n",
    "        return right_count / len(x_test)"
   ],
   "metadata": {
    "collapsed": false,
    "pycharm": {
     "name": "#%%\n"
    }
   }
  },
  {
   "cell_type": "code",
   "execution_count": 15,
   "outputs": [
    {
     "data": {
      "text/plain": "0.7333333333333333"
     },
     "execution_count": 15,
     "metadata": {},
     "output_type": "execute_result"
    }
   ],
   "source": [
    "clf = KNN(X_train, y_train)\n",
    "clf.score(X_test, y_test)"
   ],
   "metadata": {
    "collapsed": false,
    "pycharm": {
     "name": "#%%\n"
    }
   }
  },
  {
   "cell_type": "code",
   "execution_count": 16,
   "outputs": [
    {
     "name": "stdout",
     "output_type": "stream",
     "text": [
      "Test Point: 1\n"
     ]
    }
   ],
   "source": [
    "test_point = [6,0, 3.0]\n",
    "print('Test Point: {}'.format(clf.predict(test_point)))\n"
   ],
   "metadata": {
    "collapsed": false,
    "pycharm": {
     "name": "#%%\n"
    }
   }
  },
  {
   "cell_type": "code",
   "execution_count": 17,
   "outputs": [
    {
     "data": {
      "text/plain": "<matplotlib.legend.Legend at 0x7ff40b7459a0>"
     },
     "execution_count": 17,
     "metadata": {},
     "output_type": "execute_result"
    },
    {
     "data": {
      "text/plain": "<Figure size 432x288 with 1 Axes>",
      "image/png": "[encoded data removed]"
     },
     "metadata": {
      "needs_background": "light"
     },
     "output_type": "display_data"
    }
   ],
   "source": [
    "plt.scatter(X[y_true==0,0], X[y_true==0,1], label=iris.target_names[0])\n",
    "plt.scatter(X[y_true==1,0], X[y_true==1,1], label=iris.target_names[1]+'/'+iris.target_names[2])\n",
    "plt.plot(test_point[0], test_point[1], 'bo', label='test_point')\n",
    "plt.xlabel(iris.feature_names[0])\n",
    "plt.ylabel(iris.feature_names[1])\n",
    "plt.legend()"
   ],
   "metadata": {
    "collapsed": false,
    "pycharm": {
     "name": "#%%\n"
    }
   }
  },
  {
   "cell_type": "code",
   "execution_count": 18,
   "outputs": [
    {
     "data": {
      "text/plain": "1.0"
     },
     "execution_count": 18,
     "metadata": {},
     "output_type": "execute_result"
    }
   ],
   "source": [
    "from sklearn.neighbors import KNeighborsClassifier\n",
    "clf_sk = KNeighborsClassifier()\n",
    "clf_sk.fit(X_train, y_train)\n",
    "clf_sk.score(X_test, y_test)"
   ],
   "metadata": {
    "collapsed": false,
    "pycharm": {
     "name": "#%%\n"
    }
   }
  }
 ],
 "metadata": {
  "kernelspec": {
   "display_name": "Python 3",
   "language": "python",
   "name": "python3"
  },
  "language_info": {
   "codemirror_mode": {
    "name": "ipython",
    "version": 2
   },
   "file_extension": ".py",
   "mimetype": "text/x-python",
   "name": "python",
   "nbconvert_exporter": "python",
   "pygments_lexer": "ipython2",
   "version": "2.7.6"
  }
 },
 "nbformat": 4,
 "nbformat_minor": 0
}